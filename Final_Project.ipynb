{
 "cells": [
  {
   "cell_type": "code",
   "execution_count": null,
   "metadata": {},
   "outputs": [],
   "source": [
    "# Section II - Simple Linear Regression Formulas:\n",
    "\n",
    "import numpy as np\n",
    "import matplotlib.pyplot as plt\n",
    "\n",
    "X=[70,70,70,80,80,80,90,90,90,100,100,100]\n",
    "Y=[2.3,2.6,2.1,2.5,2.9,2.4,3.0,3.1,2.8,3.3,3.5,3.0]\n",
    "\n",
    "x= np.array(X)\n",
    "y=np.array(Y)\n",
    "\n",
    "def b1(x,y):\n",
    "    ''' Please use Formula in Page 7-5 --- SLR_main.pdf --- ''' \n",
    "    global b1\n",
    "    \n",
    "    X_mean = np.mean(x)\n",
    "    A= sum(np.multiply(x,y))\n",
    "    B= (np.multiply(sum(x),(sum(y))))/(len(x))\n",
    "    C= (sum(x**2))-((len(x))*(X_mean**2))\n",
    "    \n",
    "    b1= (A-B)/C\n",
    "    print(f'b1: {b1}')\n",
    "    \n",
    "    return b1\n",
    "\n",
    "# Write a function to find b0\n",
    "\n",
    "def b0(x,y):\n",
    "    ''' Please use Formula in Page 7-6 --- SLR_main.pdf --- ''' \n",
    "    global Y_mean, X_mean\n",
    "    global yh\n",
    "    \n",
    "    Y_mean = np.mean(y)\n",
    "    X_mean = np.mean(x)\n",
    "    b0= Y_mean - (X_mean*b1)\n",
    "    \n",
    "    yh= b1*x + b0\n",
    "    print(f'b0: {b0}')\n",
    "    \n",
    "    return b0\n",
    "\n",
    "# Write a function to find R\n",
    "\n",
    "def R(x,y):\n",
    "    ''' Please use Formula in Page 7-13 --- SLR_main.pdf --- ''' \n",
    "    num = len(x)\n",
    "    X_mean = np.mean(x)\n",
    "    Y_mean = np.mean(y)\n",
    "    \n",
    "    D= sum(np.multiply(x,y))\n",
    "    E= (sum(x)*sum(y))/n\n",
    "    F= (sum(x**2))-(n*(X_mean**2))\n",
    "    G= (sum(y**2))-(n*(Y_mean**2))\n",
    "    R= (D-E)/(np.sqrt(F*G))\n",
    "    \n",
    "    print(f'R value: {R}')\n",
    "    \n",
    "    return R\n",
    "\n",
    "# Write a function to find SSE\n",
    "\n",
    "def SSE(y,yh):\n",
    "    ''' Please use Formula in Page 7-3 --- SLR_main.pdf --- '''\n",
    "    SSE= sum((y-yh)**2)\n",
    "    \n",
    "    print(f'SSE: {SSE}')\n",
    "    \n",
    "    return SSE\n",
    "\n",
    "# Write a function to find SSR\n",
    "\n",
    "def SSR(y,yh):\n",
    "    ''' Please use Formula in Page 7-3 --- SLR_main.pdf --- '''\n",
    "    Y_mean= np.mean(y)\n",
    "    SSR= sum((yh-Y_mean)**2)\n",
    "    \n",
    "    print(f'SSR: {SSR}')\n",
    "    \n",
    "    return SSR\n",
    "\n",
    "# Write a function to find SST\n",
    "\n",
    "def SST(y,yh):\n",
    "    ''' Please use Formula in Page 7-3 --- SLR_main.pdf --- '''\n",
    "    Y_mean= np.mean(y)\n",
    "    SSR= sum((yh-Y_mean)**2)\n",
    "    \n",
    "    print(f'SSR: {SSR}')\n",
    "    \n",
    "    return SSR\n",
    "\n",
    "# Check if SST = SSR + SSE as shown on page 7-13\n",
    "\n",
    "# Write a function to find MSE\n",
    "\n",
    "def MSE(y,yh):\n",
    "    ''' Please use Formula in Page 7-5 --- SLR_main.pdf --- '''\n",
    "    SSR= SSE / (n-2)\n",
    "    \n",
    "    return SSR\n",
    "\n",
    "# Check if MSE = SSE (n-2) as shown on page 7-5\n",
    "\n"
   ]
  },
  {
   "cell_type": "markdown",
   "metadata": {},
   "source": [
    "### Part I - Example 1 (page 7-1)"
   ]
  },
  {
   "cell_type": "code",
   "execution_count": 2,
   "metadata": {},
   "outputs": [],
   "source": [
    "import numpy as np\n",
    "import matplotlib.pyplot as plt"
   ]
  },
  {
   "cell_type": "code",
   "execution_count": 3,
   "metadata": {},
   "outputs": [],
   "source": [
    "# install scikit-learn\n",
    "#pip install -U scikit-learn"
   ]
  },
  {
   "cell_type": "code",
   "execution_count": 17,
   "metadata": {},
   "outputs": [],
   "source": [
    "X=[70,70,70,80,80,80,90,90,90,100,100,100]\n",
    "Y=[2.3,2.6,2.1,2.5,2.9,2.4,3.0,3.1,2.8,3.3,3.5,3.0]\n",
    "\n",
    "x= np.array(X)\n",
    "y=np.array(Y)"
   ]
  },
  {
   "cell_type": "code",
   "execution_count": 18,
   "metadata": {},
   "outputs": [],
   "source": [
    "# Example 1 using 'sklearn.linear_model LinearRegression' \n",
    "\n",
    "from sklearn.linear_model import LinearRegression\n",
    "\n",
    "XX=np.array(X).reshape(-1,1) # make it column array\n",
    "YY=np.array(Y) # row array"
   ]
  },
  {
   "cell_type": "code",
   "execution_count": 19,
   "metadata": {},
   "outputs": [
    {
     "name": "stdout",
     "output_type": "stream",
     "text": [
      "0.0999999999999992 [0.03166667]\n"
     ]
    },
    {
     "data": {
      "text/plain": [
       "(0.7716973065412569, 0.8784630365253036)"
      ]
     },
     "execution_count": 19,
     "metadata": {},
     "output_type": "execute_result"
    }
   ],
   "source": [
    "model=LinearRegression()  # create a model\n",
    "model.fit(XX,YY) # fit data with this model\n",
    "b0=model.intercept_ # find bo\n",
    "b1=model.coef_ # find b1\n",
    "print(b0,b1)\n",
    "R2=model.score(XX,YY)  # find R^2\n",
    "R=np.sqrt(R2) # Find R\n",
    "(R2,R)"
   ]
  },
  {
   "cell_type": "code",
   "execution_count": 30,
   "metadata": {},
   "outputs": [],
   "source": [
    "# Example 1 using 'functions from Project Part I' \n",
    "\n",
    "\n",
    "####### Your Functions Goes Here ########\n",
    "import numpy as np\n",
    "import matplotlib.pyplot as plt\n",
    "\n",
    "X = [70,70,70,80,80,80,90,90,90,100,100,100] # Your data X-values as a list\n",
    "Y = [2.3,2.6,2.1,2.5,2.9,2.4,3.0,3.1,2.8,3.3,3.5,3.0] # Your data Y-values as a list\n",
    "\n",
    "x= np.array(X) # convert above X-data to a numpy array\n",
    "y=np.array(Y) # convert above Y-data to a numpy array\n",
    "\n",
    "# Write a function to find b1\n",
    "\n",
    "def b1(x,y):\n",
    "    ''' Please use Formula in Page 7-5 --- SLR_main.pdf --- ''' \n",
    "    global b1\n",
    "    \n",
    "    X_mean = np.mean(x)\n",
    "    A= sum(np.multiply(x,y))\n",
    "    B= (np.multiply(sum(x),(sum(y))))/(len(x))\n",
    "    C= (sum(x**2))-((len(x))*(X_mean**2))\n",
    "    \n",
    "    b1= (A-B)/C\n",
    "    print(f'b1: {b1}')\n",
    "    \n",
    "    return b1\n",
    "\n",
    "# Write a function to find b0\n",
    "\n",
    "def b0(x,y):\n",
    "    ''' Please use Formula in Page 7-6 --- SLR_main.pdf --- ''' \n",
    "    global Y_mean, X_mean\n",
    "    global yh\n",
    "    \n",
    "    Y_mean = np.mean(y)\n",
    "    X_mean = np.mean(x)\n",
    "    b0= Y_mean - (X_mean*b1)\n",
    "    \n",
    "    yh= b1*x + b0\n",
    "    print(f'b0: {b0}')\n",
    "    \n",
    "    return b0\n",
    "\n",
    "# Write a function to find R\n",
    "\n",
    "def R(x,y):\n",
    "    ''' Please use Formula in Page 7-13 --- SLR_main.pdf --- ''' \n",
    "    num = len(x)\n",
    "    X_mean = np.mean(x)\n",
    "    Y_mean = np.mean(y)\n",
    "    \n",
    "    D= sum(np.multiply(x,y))\n",
    "    E= (sum(x)*sum(y))/n\n",
    "    F= (sum(x**2))-(n*(X_mean**2))\n",
    "    G= (sum(y**2))-(n*(Y_mean**2))\n",
    "    R= (D-E)/(np.sqrt(F*G))\n",
    "    \n",
    "    print(f'R value: {R}')\n",
    "    \n",
    "    return R\n",
    "\n",
    "# Write a function to find SSE\n",
    "\n",
    "def SSE(y,yh):\n",
    "    ''' Please use Formula in Page 7-3 --- SLR_main.pdf --- '''\n",
    "    SSE= sum((y-yh)**2)\n",
    "    \n",
    "    print(f'SSE: {SSE}')\n",
    "    \n",
    "    return SSE\n",
    "\n",
    "# Write a function to find SSR\n",
    "\n",
    "def SSR(y,yh):\n",
    "    ''' Please use Formula in Page 7-3 --- SLR_main.pdf --- '''\n",
    "    Y_mean= np.mean(y)\n",
    "    SSR= sum((yh-Y_mean)**2)\n",
    "    \n",
    "    print(f'SSR: {SSR}')\n",
    "    \n",
    "    return SSR\n",
    "\n",
    "# Write a function to find SST\n",
    "\n",
    "def SST(y,yh):\n",
    "    ''' Please use Formula in Page 7-3 --- SLR_main.pdf --- '''\n",
    "    Y_mean= np.mean(y)\n",
    "    SST= (sum((y-yh)**2))+(sum((yh-Y_mean)**2))\n",
    "    \n",
    "    print(f'SST: {SST}')\n",
    "    \n",
    "    return SST\n",
    "\n",
    "# Check if SST = SSR + SSE as shown on page 7-13\n",
    "\n",
    "# Write a function to find MSE\n",
    "\n",
    "def MSE(y,yh):\n",
    "    ''' Please use Formula in Page 7-5 --- SLR_main.pdf --- '''\n",
    "    SSR= SSE / (n-2)\n",
    "    \n",
    "    return SSR\n",
    "\n",
    "######\n",
    "\n",
    "X=[70,70,70,80,80,80,90,90,90,100,100,100]\n",
    "Y=[2.3,2.6,2.1,2.5,2.9,2.4,3.0,3.1,2.8,3.3,3.5,3.0]\n",
    "\n",
    "x= np.array(X)\n",
    "y=np.array(Y)"
   ]
  },
  {
   "cell_type": "code",
   "execution_count": 31,
   "metadata": {},
   "outputs": [
    {
     "name": "stdout",
     "output_type": "stream",
     "text": [
      "b1: 0.03166666666666667\n"
     ]
    },
    {
     "data": {
      "text/plain": [
       "0.03166666666666667"
      ]
     },
     "execution_count": 31,
     "metadata": {},
     "output_type": "execute_result"
    }
   ],
   "source": [
    "bb1=b1(x,y)\n",
    "bb1"
   ]
  },
  {
   "cell_type": "code",
   "execution_count": 32,
   "metadata": {},
   "outputs": [
    {
     "name": "stdout",
     "output_type": "stream",
     "text": [
      "b0: 0.09999999999999964\n"
     ]
    },
    {
     "data": {
      "text/plain": [
       "0.09999999999999964"
      ]
     },
     "execution_count": 32,
     "metadata": {},
     "output_type": "execute_result"
    }
   ],
   "source": [
    "bb0=b0(x,y)\n",
    "bb0"
   ]
  },
  {
   "cell_type": "code",
   "execution_count": 33,
   "metadata": {},
   "outputs": [],
   "source": [
    "yh=bb0+bb1*x\n",
    "yl=np.average(y)"
   ]
  },
  {
   "cell_type": "code",
   "execution_count": 34,
   "metadata": {},
   "outputs": [
    {
     "name": "stdout",
     "output_type": "stream",
     "text": [
      "SSE: 0.4450000000000001\n"
     ]
    }
   ],
   "source": [
    "SSE1=SSE(y,yh)"
   ]
  },
  {
   "cell_type": "code",
   "execution_count": 35,
   "metadata": {},
   "outputs": [
    {
     "name": "stdout",
     "output_type": "stream",
     "text": [
      "SSR: 1.5041666666666664\n"
     ]
    }
   ],
   "source": [
    "SSR1=SSR(y,yh)"
   ]
  },
  {
   "cell_type": "code",
   "execution_count": 27,
   "metadata": {},
   "outputs": [
    {
     "ename": "TypeError",
     "evalue": "'numpy.float64' object is not iterable",
     "output_type": "error",
     "traceback": [
      "\u001b[1;31m---------------------------------------------------------------------------\u001b[0m",
      "\u001b[1;31mTypeError\u001b[0m                                 Traceback (most recent call last)",
      "Input \u001b[1;32mIn [27]\u001b[0m, in \u001b[0;36m<cell line: 1>\u001b[1;34m()\u001b[0m\n\u001b[1;32m----> 1\u001b[0m SST1\u001b[38;5;241m=\u001b[39m\u001b[43mSST\u001b[49m\u001b[43m(\u001b[49m\u001b[43my\u001b[49m\u001b[43m,\u001b[49m\u001b[43myl\u001b[49m\u001b[43m)\u001b[49m\n",
      "Input \u001b[1;32mIn [21]\u001b[0m, in \u001b[0;36mSST\u001b[1;34m(y, yh)\u001b[0m\n\u001b[0;32m     88\u001b[0m \u001b[38;5;124;03m''' Please use Formula in Page 7-3 --- SLR_main.pdf --- '''\u001b[39;00m\n\u001b[0;32m     89\u001b[0m Y_mean\u001b[38;5;241m=\u001b[39m np\u001b[38;5;241m.\u001b[39mmean(y)\n\u001b[1;32m---> 90\u001b[0m SSR\u001b[38;5;241m=\u001b[39m \u001b[38;5;28;43msum\u001b[39;49m\u001b[43m(\u001b[49m\u001b[43m(\u001b[49m\u001b[43myh\u001b[49m\u001b[38;5;241;43m-\u001b[39;49m\u001b[43mY_mean\u001b[49m\u001b[43m)\u001b[49m\u001b[38;5;241;43m*\u001b[39;49m\u001b[38;5;241;43m*\u001b[39;49m\u001b[38;5;241;43m2\u001b[39;49m\u001b[43m)\u001b[49m\n\u001b[0;32m     92\u001b[0m \u001b[38;5;28mprint\u001b[39m(\u001b[38;5;124mf\u001b[39m\u001b[38;5;124m'\u001b[39m\u001b[38;5;124mSSR: \u001b[39m\u001b[38;5;132;01m{\u001b[39;00mSSR\u001b[38;5;132;01m}\u001b[39;00m\u001b[38;5;124m'\u001b[39m)\n\u001b[0;32m     94\u001b[0m \u001b[38;5;28;01mreturn\u001b[39;00m SSR\n",
      "\u001b[1;31mTypeError\u001b[0m: 'numpy.float64' object is not iterable"
     ]
    }
   ],
   "source": [
    "SST1=SST(y,yl)"
   ]
  },
  {
   "cell_type": "code",
   "execution_count": 28,
   "metadata": {},
   "outputs": [
    {
     "data": {
      "text/plain": [
       "1.9491666666666665"
      ]
     },
     "execution_count": 28,
     "metadata": {},
     "output_type": "execute_result"
    }
   ],
   "source": [
    "SSR1+SSE1"
   ]
  },
  {
   "cell_type": "code",
   "execution_count": 29,
   "metadata": {},
   "outputs": [
    {
     "ename": "NameError",
     "evalue": "name 'SST1' is not defined",
     "output_type": "error",
     "traceback": [
      "\u001b[1;31m---------------------------------------------------------------------------\u001b[0m",
      "\u001b[1;31mNameError\u001b[0m                                 Traceback (most recent call last)",
      "Input \u001b[1;32mIn [29]\u001b[0m, in \u001b[0;36m<cell line: 1>\u001b[1;34m()\u001b[0m\n\u001b[1;32m----> 1\u001b[0m \u001b[43mSST1\u001b[49m\n",
      "\u001b[1;31mNameError\u001b[0m: name 'SST1' is not defined"
     ]
    }
   ],
   "source": [
    "SST1"
   ]
  },
  {
   "cell_type": "code",
   "execution_count": 10,
   "metadata": {},
   "outputs": [
    {
     "data": {
      "text/plain": [
       "0.8784630365252997"
      ]
     },
     "execution_count": 10,
     "metadata": {},
     "output_type": "execute_result"
    }
   ],
   "source": [
    "R1=R(x,y)\n",
    "R1"
   ]
  },
  {
   "cell_type": "code",
   "execution_count": 40,
   "metadata": {},
   "outputs": [
    {
     "ename": "ValueError",
     "evalue": "x and y must be the same size",
     "output_type": "error",
     "traceback": [
      "\u001b[1;31m---------------------------------------------------------------------------\u001b[0m",
      "\u001b[1;31mValueError\u001b[0m                                Traceback (most recent call last)",
      "Input \u001b[1;32mIn [40]\u001b[0m, in \u001b[0;36m<cell line: 6>\u001b[1;34m()\u001b[0m\n\u001b[0;32m      1\u001b[0m \u001b[38;5;66;03m## Print data and fitted model\u001b[39;00m\n\u001b[0;32m      2\u001b[0m \u001b[38;5;66;03m# we will plot (x,y) data and fitted model Ymod = b0 + x*b1 \u001b[39;00m\n\u001b[0;32m      4\u001b[0m Ymod\u001b[38;5;241m=\u001b[39mbb0\u001b[38;5;241m+\u001b[39mbb1\u001b[38;5;241m*\u001b[39mx\n\u001b[1;32m----> 6\u001b[0m \u001b[43mplt\u001b[49m\u001b[38;5;241;43m.\u001b[39;49m\u001b[43mscatter\u001b[49m\u001b[43m(\u001b[49m\u001b[43mx\u001b[49m\u001b[43m,\u001b[49m\u001b[43my\u001b[49m\u001b[43m)\u001b[49m \u001b[38;5;66;03m# data \u001b[39;00m\n\u001b[0;32m      9\u001b[0m plt\u001b[38;5;241m.\u001b[39mplot(x,Ymod,\u001b[38;5;124m'\u001b[39m\u001b[38;5;124mred\u001b[39m\u001b[38;5;124m'\u001b[39m)\n\u001b[0;32m     11\u001b[0m plt\u001b[38;5;241m.\u001b[39mgrid()\n",
      "File \u001b[1;32m~\\anaconda3\\lib\\site-packages\\matplotlib\\pyplot.py:2807\u001b[0m, in \u001b[0;36mscatter\u001b[1;34m(x, y, s, c, marker, cmap, norm, vmin, vmax, alpha, linewidths, edgecolors, plotnonfinite, data, **kwargs)\u001b[0m\n\u001b[0;32m   2802\u001b[0m \u001b[38;5;129m@_copy_docstring_and_deprecators\u001b[39m(Axes\u001b[38;5;241m.\u001b[39mscatter)\n\u001b[0;32m   2803\u001b[0m \u001b[38;5;28;01mdef\u001b[39;00m \u001b[38;5;21mscatter\u001b[39m(\n\u001b[0;32m   2804\u001b[0m         x, y, s\u001b[38;5;241m=\u001b[39m\u001b[38;5;28;01mNone\u001b[39;00m, c\u001b[38;5;241m=\u001b[39m\u001b[38;5;28;01mNone\u001b[39;00m, marker\u001b[38;5;241m=\u001b[39m\u001b[38;5;28;01mNone\u001b[39;00m, cmap\u001b[38;5;241m=\u001b[39m\u001b[38;5;28;01mNone\u001b[39;00m, norm\u001b[38;5;241m=\u001b[39m\u001b[38;5;28;01mNone\u001b[39;00m,\n\u001b[0;32m   2805\u001b[0m         vmin\u001b[38;5;241m=\u001b[39m\u001b[38;5;28;01mNone\u001b[39;00m, vmax\u001b[38;5;241m=\u001b[39m\u001b[38;5;28;01mNone\u001b[39;00m, alpha\u001b[38;5;241m=\u001b[39m\u001b[38;5;28;01mNone\u001b[39;00m, linewidths\u001b[38;5;241m=\u001b[39m\u001b[38;5;28;01mNone\u001b[39;00m, \u001b[38;5;241m*\u001b[39m,\n\u001b[0;32m   2806\u001b[0m         edgecolors\u001b[38;5;241m=\u001b[39m\u001b[38;5;28;01mNone\u001b[39;00m, plotnonfinite\u001b[38;5;241m=\u001b[39m\u001b[38;5;28;01mFalse\u001b[39;00m, data\u001b[38;5;241m=\u001b[39m\u001b[38;5;28;01mNone\u001b[39;00m, \u001b[38;5;241m*\u001b[39m\u001b[38;5;241m*\u001b[39mkwargs):\n\u001b[1;32m-> 2807\u001b[0m     __ret \u001b[38;5;241m=\u001b[39m gca()\u001b[38;5;241m.\u001b[39mscatter(\n\u001b[0;32m   2808\u001b[0m         x, y, s\u001b[38;5;241m=\u001b[39ms, c\u001b[38;5;241m=\u001b[39mc, marker\u001b[38;5;241m=\u001b[39mmarker, cmap\u001b[38;5;241m=\u001b[39mcmap, norm\u001b[38;5;241m=\u001b[39mnorm,\n\u001b[0;32m   2809\u001b[0m         vmin\u001b[38;5;241m=\u001b[39mvmin, vmax\u001b[38;5;241m=\u001b[39mvmax, alpha\u001b[38;5;241m=\u001b[39malpha, linewidths\u001b[38;5;241m=\u001b[39mlinewidths,\n\u001b[0;32m   2810\u001b[0m         edgecolors\u001b[38;5;241m=\u001b[39medgecolors, plotnonfinite\u001b[38;5;241m=\u001b[39mplotnonfinite,\n\u001b[0;32m   2811\u001b[0m         \u001b[38;5;241m*\u001b[39m\u001b[38;5;241m*\u001b[39m({\u001b[38;5;124m\"\u001b[39m\u001b[38;5;124mdata\u001b[39m\u001b[38;5;124m\"\u001b[39m: data} \u001b[38;5;28;01mif\u001b[39;00m data \u001b[38;5;129;01mis\u001b[39;00m \u001b[38;5;129;01mnot\u001b[39;00m \u001b[38;5;28;01mNone\u001b[39;00m \u001b[38;5;28;01melse\u001b[39;00m {}), \u001b[38;5;241m*\u001b[39m\u001b[38;5;241m*\u001b[39mkwargs)\n\u001b[0;32m   2812\u001b[0m     sci(__ret)\n\u001b[0;32m   2813\u001b[0m     \u001b[38;5;28;01mreturn\u001b[39;00m __ret\n",
      "File \u001b[1;32m~\\anaconda3\\lib\\site-packages\\matplotlib\\__init__.py:1412\u001b[0m, in \u001b[0;36m_preprocess_data.<locals>.inner\u001b[1;34m(ax, data, *args, **kwargs)\u001b[0m\n\u001b[0;32m   1409\u001b[0m \u001b[38;5;129m@functools\u001b[39m\u001b[38;5;241m.\u001b[39mwraps(func)\n\u001b[0;32m   1410\u001b[0m \u001b[38;5;28;01mdef\u001b[39;00m \u001b[38;5;21minner\u001b[39m(ax, \u001b[38;5;241m*\u001b[39margs, data\u001b[38;5;241m=\u001b[39m\u001b[38;5;28;01mNone\u001b[39;00m, \u001b[38;5;241m*\u001b[39m\u001b[38;5;241m*\u001b[39mkwargs):\n\u001b[0;32m   1411\u001b[0m     \u001b[38;5;28;01mif\u001b[39;00m data \u001b[38;5;129;01mis\u001b[39;00m \u001b[38;5;28;01mNone\u001b[39;00m:\n\u001b[1;32m-> 1412\u001b[0m         \u001b[38;5;28;01mreturn\u001b[39;00m func(ax, \u001b[38;5;241m*\u001b[39m\u001b[38;5;28mmap\u001b[39m(sanitize_sequence, args), \u001b[38;5;241m*\u001b[39m\u001b[38;5;241m*\u001b[39mkwargs)\n\u001b[0;32m   1414\u001b[0m     bound \u001b[38;5;241m=\u001b[39m new_sig\u001b[38;5;241m.\u001b[39mbind(ax, \u001b[38;5;241m*\u001b[39margs, \u001b[38;5;241m*\u001b[39m\u001b[38;5;241m*\u001b[39mkwargs)\n\u001b[0;32m   1415\u001b[0m     auto_label \u001b[38;5;241m=\u001b[39m (bound\u001b[38;5;241m.\u001b[39marguments\u001b[38;5;241m.\u001b[39mget(label_namer)\n\u001b[0;32m   1416\u001b[0m                   \u001b[38;5;129;01mor\u001b[39;00m bound\u001b[38;5;241m.\u001b[39mkwargs\u001b[38;5;241m.\u001b[39mget(label_namer))\n",
      "File \u001b[1;32m~\\anaconda3\\lib\\site-packages\\matplotlib\\axes\\_axes.py:4369\u001b[0m, in \u001b[0;36mAxes.scatter\u001b[1;34m(self, x, y, s, c, marker, cmap, norm, vmin, vmax, alpha, linewidths, edgecolors, plotnonfinite, **kwargs)\u001b[0m\n\u001b[0;32m   4367\u001b[0m y \u001b[38;5;241m=\u001b[39m np\u001b[38;5;241m.\u001b[39mma\u001b[38;5;241m.\u001b[39mravel(y)\n\u001b[0;32m   4368\u001b[0m \u001b[38;5;28;01mif\u001b[39;00m x\u001b[38;5;241m.\u001b[39msize \u001b[38;5;241m!=\u001b[39m y\u001b[38;5;241m.\u001b[39msize:\n\u001b[1;32m-> 4369\u001b[0m     \u001b[38;5;28;01mraise\u001b[39;00m \u001b[38;5;167;01mValueError\u001b[39;00m(\u001b[38;5;124m\"\u001b[39m\u001b[38;5;124mx and y must be the same size\u001b[39m\u001b[38;5;124m\"\u001b[39m)\n\u001b[0;32m   4371\u001b[0m \u001b[38;5;28;01mif\u001b[39;00m s \u001b[38;5;129;01mis\u001b[39;00m \u001b[38;5;28;01mNone\u001b[39;00m:\n\u001b[0;32m   4372\u001b[0m     s \u001b[38;5;241m=\u001b[39m (\u001b[38;5;241m20\u001b[39m \u001b[38;5;28;01mif\u001b[39;00m rcParams[\u001b[38;5;124m'\u001b[39m\u001b[38;5;124m_internal.classic_mode\u001b[39m\u001b[38;5;124m'\u001b[39m] \u001b[38;5;28;01melse\u001b[39;00m\n\u001b[0;32m   4373\u001b[0m          rcParams[\u001b[38;5;124m'\u001b[39m\u001b[38;5;124mlines.markersize\u001b[39m\u001b[38;5;124m'\u001b[39m] \u001b[38;5;241m*\u001b[39m\u001b[38;5;241m*\u001b[39m \u001b[38;5;241m2.0\u001b[39m)\n",
      "\u001b[1;31mValueError\u001b[0m: x and y must be the same size"
     ]
    },
    {
     "data": {
      "image/png": "[encoded data removed]",
      "text/plain": [
       "<Figure size 432x288 with 1 Axes>"
      ]
     },
     "metadata": {
      "needs_background": "light"
     },
     "output_type": "display_data"
    }
   ],
   "source": [
    "## Print data and fitted model\n",
    "# we will plot (x,y) data and fitted model Ymod = b0 + x*b1 \n",
    "\n",
    "Ymod=bb0+bb1*x\n",
    "\n",
    "plt.scatter(x,y) # data \n",
    "\n",
    "\n",
    "plt.plot(x,Ymod,'red')\n",
    "\n",
    "plt.grid()"
   ]
  },
  {
   "cell_type": "markdown",
   "metadata": {},
   "source": [
    "### Part I - Example 2 "
   ]
  },
  {
   "cell_type": "code",
   "execution_count": 41,
   "metadata": {},
   "outputs": [
    {
     "data": {
      "image/png": "[encoded data removed]",
      "text/plain": [
       "<Figure size 432x288 with 1 Axes>"
      ]
     },
     "metadata": {
      "needs_background": "light"
     },
     "output_type": "display_data"
    }
   ],
   "source": [
    "\n",
    "from sklearn.linear_model import LinearRegression\n",
    "\n",
    "X=np.array([70,70,70,80,80,80,90,90,90,100,100,100]).reshape(-1,1)\n",
    "Y=np.array([2.3,2.6,2.7,2.3,2.6,2.7,2.3,2.6,2.7,2.3,2.6,2.7])\n",
    "plt.scatter(X,Y)\n",
    "plt.grid()"
   ]
  },
  {
   "cell_type": "code",
   "execution_count": 42,
   "metadata": {},
   "outputs": [
    {
     "name": "stdout",
     "output_type": "stream",
     "text": [
      "2.5333333333333337\n",
      "[-9.05611328e-19]\n",
      "2.5333333333333337 [-9.05611328e-19]\n",
      "0.0\n",
      "0.0\n"
     ]
    }
   ],
   "source": [
    "model=LinearRegression()\n",
    "model.fit(X,Y)\n",
    "b0=model.intercept_\n",
    "b1=model.coef_\n",
    "print(b0)\n",
    "print(b1)\n",
    "print(b0,b1)\n",
    "R2=model.score(X,Y)  # find R^2\n",
    "R=np.sqrt(R2) # Find R\n",
    "print(R2)\n",
    "print(R)"
   ]
  },
  {
   "cell_type": "code",
   "execution_count": 43,
   "metadata": {},
   "outputs": [
    {
     "data": {
      "image/png": "[encoded data removed]",
      "text/plain": [
       "<Figure size 432x288 with 1 Axes>"
      ]
     },
     "metadata": {
      "needs_background": "light"
     },
     "output_type": "display_data"
    }
   ],
   "source": [
    "y=b0+b1*X\n",
    "plt.scatter(X,Y),plt.plot(X,y,'red')\n",
    "plt.grid()"
   ]
  },
  {
   "cell_type": "markdown",
   "metadata": {},
   "source": [
    "## PLEASE TRY YOUR FUNCTIONS TO FIND SLR VALUES"
   ]
  },
  {
   "cell_type": "markdown",
   "metadata": {},
   "source": [
    "### Part I - Example 3 (page 7-10)"
   ]
  },
  {
   "cell_type": "code",
   "execution_count": 44,
   "metadata": {},
   "outputs": [
    {
     "data": {
      "image/png": "[encoded data removed]",
      "text/plain": [
       "<Figure size 432x288 with 1 Axes>"
      ]
     },
     "metadata": {
      "needs_background": "light"
     },
     "output_type": "display_data"
    }
   ],
   "source": [
    "x=[4.6,4.7,5,5.6,6,6.6,6.9,7.2,7.7,7.7,7.7,8.3,8.9,9,10,10.2]\n",
    "y=[136,128,142,137,147,144,138,132,142,146,154,139,145,151,140,160]\n",
    "plt.scatter(x,y,s=50,color='r',marker=\"o\",facecolors='none')\n",
    "plt.grid()"
   ]
  },
  {
   "cell_type": "code",
   "execution_count": 45,
   "metadata": {},
   "outputs": [
    {
     "name": "stdout",
     "output_type": "stream",
     "text": [
      "123.10759468517759\n",
      "[2.6811239]\n",
      "0.34468186911761156\n",
      "0.5870961327735106\n"
     ]
    }
   ],
   "source": [
    "X=np.array(x).reshape(-1,1)\n",
    "Y=np.array(y)\n",
    "model=LinearRegression()\n",
    "model.fit(X,Y)\n",
    "b0=model.intercept_\n",
    "b1=model.coef_\n",
    "print(b0)\n",
    "print(b1)\n",
    "ym=b0+b1*X\n",
    "R2=model.score(X,Y)  # find R^2\n",
    "R=np.sqrt(R2) # Find R\n",
    "print(R2)\n",
    "print(R)"
   ]
  },
  {
   "cell_type": "code",
   "execution_count": 46,
   "metadata": {},
   "outputs": [
    {
     "data": {
      "text/plain": [
       "array([[135.44076463],\n",
       "       [135.70887703],\n",
       "       [136.5132142 ],\n",
       "       [138.12188854],\n",
       "       [139.1943381 ],\n",
       "       [140.80301244],\n",
       "       [141.60734961],\n",
       "       [142.41168678],\n",
       "       [143.75224873],\n",
       "       [143.75224873],\n",
       "       [143.75224873],\n",
       "       [145.36092307],\n",
       "       [146.96959741],\n",
       "       [147.2377098 ],\n",
       "       [149.91883371],\n",
       "       [150.45505849]])"
      ]
     },
     "execution_count": 46,
     "metadata": {},
     "output_type": "execute_result"
    }
   ],
   "source": [
    "ym"
   ]
  },
  {
   "cell_type": "code",
   "execution_count": 47,
   "metadata": {},
   "outputs": [
    {
     "data": {
      "text/plain": [
       "(<matplotlib.collections.PathCollection at 0x25280d7adf0>,\n",
       " [<matplotlib.lines.Line2D at 0x25280d953d0>])"
      ]
     },
     "execution_count": 47,
     "metadata": {},
     "output_type": "execute_result"
    },
    {
     "data": {
      "image/png": "[encoded data removed]",
      "text/plain": [
       "<Figure size 432x288 with 1 Axes>"
      ]
     },
     "metadata": {
      "needs_background": "light"
     },
     "output_type": "display_data"
    }
   ],
   "source": [
    "plt.scatter(x,Y,s=50,color='r',marker=\"o\",facecolors='none'),plt.plot(X,ym)"
   ]
  },
  {
   "cell_type": "markdown",
   "metadata": {},
   "source": [
    "## PLEASE TRY YOUR FUNCTIONS TO FIND SLR VALUES"
   ]
  },
  {
   "cell_type": "markdown",
   "metadata": {},
   "source": [
    "### Part I - Example 4 "
   ]
  },
  {
   "cell_type": "code",
   "execution_count": 48,
   "metadata": {},
   "outputs": [
    {
     "data": {
      "text/plain": [
       "array([[10.4],\n",
       "       [12.9],\n",
       "       [15.4],\n",
       "       [17.9],\n",
       "       [20.4],\n",
       "       [22.9],\n",
       "       [25.4]])"
      ]
     },
     "execution_count": 48,
     "metadata": {},
     "output_type": "execute_result"
    }
   ],
   "source": [
    "X=np.array([40,50,60,70,80,90,100]).reshape(-1,1)\n",
    "Y=.25*X+0.4\n",
    "Y"
   ]
  },
  {
   "cell_type": "code",
   "execution_count": 49,
   "metadata": {},
   "outputs": [
    {
     "name": "stdout",
     "output_type": "stream",
     "text": [
      "[0.4]\n",
      "[[0.25]]\n",
      "[0.4] [[0.25]]\n",
      "1.0\n",
      "1.0\n"
     ]
    }
   ],
   "source": [
    "model=LinearRegression()\n",
    "model.fit(X,Y)\n",
    "b0=model.intercept_\n",
    "b1=model.coef_\n",
    "print(b0)\n",
    "print(b1)\n",
    "print(b0,b1)\n",
    "R2=model.score(X,Y)  # find R^2\n",
    "R=np.sqrt(R2) # Find R\n",
    "print(R2)\n",
    "print(R)\n"
   ]
  },
  {
   "cell_type": "markdown",
   "metadata": {},
   "source": [
    "## PLEASE TRY YOUR FUNCTIONS TO FIND SLR VALUES"
   ]
  },
  {
   "cell_type": "markdown",
   "metadata": {},
   "source": [
    "# Section III - Data Display using f'string\n",
    "\n",
    "This section of the project is a simple way to display your data using f'string in Python. \n",
    "\n",
    "There are two parts \n",
    "\n",
    "* Part I - Please display Table 7.2 that is shown in Page 7-6 ``` SLR_main.pdf```. Try to get as close as possible to original table. \n",
    "\n",
    "* Part II - Please display Table 7.3 that is shown in Page 7-10 ``` SLR_main.pdf```. Try to get as close as possible to original table. "
   ]
  },
  {
   "cell_type": "code",
   "execution_count": 50,
   "metadata": {},
   "outputs": [
    {
     "name": "stdout",
     "output_type": "stream",
     "text": [
      "Simple Linear Regression Analysis\n",
      "+----+-----+-----------+-----------+------------+-----------+------------+\n",
      "|    | n   | x         | y         | x^2        | xy        | y^2        |\n",
      "|----+-----+-----------+-----------+------------+-----------+------------|\n",
      "|  0 | 1   | 70        | 2.3       | 4900       | 161       | 5.29       |\n",
      "|  1 | 2   | 70        | 2.6       | 4900       | 182       | 6.76       |\n",
      "|  2 | 3   | 70        | 2.1       | 4900       | 147       | 4.41       |\n",
      "|  3 | 4   | 80        | 2.5       | 6400       | 200       | 6.25       |\n",
      "|  4 | 5   | 80        | 2.9       | 6400       | 232       | 8.41       |\n",
      "|  5 | 6   | 80        | 2.4       | 6400       | 192       | 5.76       |\n",
      "|  6 | 7   | 90        | 3.0       | 8100       | 270       | 9.0        |\n",
      "|  7 | 8   | 90        | 3.1       | 8100       | 279       | 9.61       |\n",
      "|  8 | 9   | 90        | 2.8       | 8100       | 252       | 7.84       |\n",
      "|  9 | 10  | 100       | 3.3       | 10000      | 330       | 10.89      |\n",
      "| 10 | 11  | 100       | 3.5       | 10000      | 350       | 12.25      |\n",
      "| 11 | 12  | 100       | 3.0       | 10000      | 300       | 9.0        |\n",
      "| 12 | NA  | Sum: 1020 | Sum: 33.5 | Sum: 88200 | Sum: 2895 | Sum: 95.47 |\n",
      "+----+-----+-----------+-----------+------------+-----------+------------+\n"
     ]
    }
   ],
   "source": [
    "import pandas as pd\n",
    "from tabulate import tabulate\n",
    "\n",
    "SLR = {\n",
    "    'n': [1,2,3,4,5,6,7,8,9,10,11,12,'NA'],\n",
    "    'x': [70,70,70,80,80,80,90,90,90,100,100,100,'Sum: 1020'],\n",
    "    'y': [2.3,2.6,2.1,2.5,2.9,2.4,3.0,3.1,2.8,3.3,3.5,3.0,'Sum: 33.5'],\n",
    "    'x^2': [4900,4900,4900,6400,6400,6400,8100,8100,8100,10000,10000,10000,'Sum: 88200'],\n",
    "    'xy': [161,182,147,200,232,192,270,279,252,330,350,300,'Sum: 2895'],\n",
    "    'y^2': [5.29,6.76,4.41,6.25,8.41,5.76,9.00,9.61,7.84,10.89,12.25,9.00,'Sum: 95.47']\n",
    "}\n",
    "\n",
    "dfSLR = pd.DataFrame(SLR, columns = ['n','x','y','x^2','xy','y^2'])\n",
    "print(f'Simple Linear Regression Analysis')\n",
    "print(tabulate(dfSLR, headers = 'keys', tablefmt = 'psql'))"
   ]
  },
  {
   "cell_type": "code",
   "execution_count": 52,
   "metadata": {},
   "outputs": [
    {
     "data": {
      "image/png": "[encoded data removed]",
      "text/plain": [
       "<Figure size 432x288 with 1 Axes>"
      ]
     },
     "metadata": {
      "needs_background": "light"
     },
     "output_type": "display_data"
    },
    {
     "name": "stdout",
     "output_type": "stream",
     "text": [
      "b0 = 0.0999999999999992\n",
      "b1 = [0.03166667]\n",
      "R^2 = 0.7716973065412569\n",
      "R = 0.8784630365253036\n"
     ]
    },
    {
     "data": {
      "image/png": "[encoded data removed]",
      "text/plain": [
       "<Figure size 432x288 with 1 Axes>"
      ]
     },
     "metadata": {
      "needs_background": "light"
     },
     "output_type": "display_data"
    }
   ],
   "source": [
    "x=[70,70,70,80,80,80,90,90,90,100,100,100]\n",
    "y=[2.3,2.6,2.1,2.5,2.9,2.4,3.0,3.1,2.8,3.3,3.5,3.0]\n",
    "\n",
    "plt.scatter(x,y,s=50,color='r',marker='o',facecolors='none')\n",
    "plt.title(r'Observations')\n",
    "plt.ylabel(r'Dependent Variable: y')\n",
    "plt.xlabel(r'Independent Variable: y')\n",
    "\n",
    "plt.grid()\n",
    "plt.show()\n",
    "\n",
    "X = np.array(x).reshape(-1,1)\n",
    "Y = np.array(y)\n",
    "\n",
    "model = LinearRegression()\n",
    "model.fit(X,Y)\n",
    "\n",
    "b0 = model.intercept_\n",
    "b1 = model.coef_\n",
    "print(f'b0 = {b0}')\n",
    "print(f'b1 = {b1}')\n",
    "\n",
    "ym = b0+b1*x\n",
    "R2 = model.score(X,Y)\n",
    "R = np.sqrt(R2)\n",
    "print(f'R^2 = {R2}')\n",
    "print(f'R = {R}')\n",
    "\n",
    "plt.scatter(x,Y,s=50,color='r',marker='o',facecolors='none'),plt.plot(X,ym)\n",
    "plt.title(r'Line of Simple Linear Regression')\n",
    "plt.xlabel(r'x')\n",
    "plt.ylabel(r'y')\n",
    "plt.grid()\n",
    "plt.show()\n"
   ]
  },
  {
   "cell_type": "markdown",
   "metadata": {},
   "source": [
    "# Section IV - Data generation and SLR fitting in Python\n",
    "\n",
    "This section of the project is creating a simple data set and data fit using SLR. You may use ```SLR functions``` for this section. \n",
    "\n",
    "* Part I - Create a ```X``` and ```Y``` with 20 values with R = 1. \n",
    "\n",
    "* Part II - Create a ```X``` and ```Y``` with 20 values with 0.5 < R < 1. \n",
    "\n",
    "* Part III - Create a ```X``` and ```Y``` with 20 values with R = -1. \n",
    "\n",
    "* Part IV - Create a ```X``` and ```Y``` with 20 values with -0.5 < R < -1.  "
   ]
  },
  {
   "cell_type": "code",
   "execution_count": 53,
   "metadata": {},
   "outputs": [
    {
     "data": {
      "image/png": "[encoded data removed]",
      "text/plain": [
       "<Figure size 432x288 with 1 Axes>"
      ]
     },
     "metadata": {
      "needs_background": "light"
     },
     "output_type": "display_data"
    },
    {
     "name": "stdout",
     "output_type": "stream",
     "text": [
      "b0 = 0.0\n",
      "b1 = [2.]\n",
      "R^2 = 1.0\n",
      "R = 1.0\n"
     ]
    },
    {
     "data": {
      "image/png": "[encoded data removed]",
      "text/plain": [
       "<Figure size 432x288 with 1 Axes>"
      ]
     },
     "metadata": {
      "needs_background": "light"
     },
     "output_type": "display_data"
    }
   ],
   "source": [
    "# Part 1\n",
    "\n",
    "x = [1,1,2,2,3,3,4,4,5,5,6,6]\n",
    "y = [2,2,4,4,6,6,8,8,10,10,12,12]\n",
    "\n",
    "plt.scatter(x,y,s=50,color='r',marker='o',facecolors='none')\n",
    "plt.title(r'Observations')\n",
    "plt.xlabel(r'Independent Variable: x')\n",
    "plt.ylabel(r'Dependent Variable: ')\n",
    "plt.grid()\n",
    "plt.show()\n",
    "\n",
    "X = np.array(x).reshape(-1,1)\n",
    "Y = np.array(y)\n",
    "model = LinearRegression()\n",
    "model.fit(X,Y)\n",
    "b0 = model.intercept_\n",
    "b1 = model.coef_\n",
    "\n",
    "print(f'b0 = {b0}')\n",
    "print(f'b1 = {b1}')\n",
    "\n",
    "ym = b0+b1*x\n",
    "R2 = model.score(X,Y)\n",
    "R = np.sqrt(R2)\n",
    "\n",
    "print(f'R^2 = {R2}')\n",
    "print(f'R = {R}')\n",
    "\n",
    "plt.scatter(x,Y,s=50,color='r',marker='o',facecolors='none'), plt.plot(X,ym)\n",
    "plt.title(r'Line of Simple Linear Regression, R=1')\n",
    "plt.xlabel(r'x')\n",
    "plt.ylabel(r'y')\n",
    "plt.grid()\n",
    "plt.show()"
   ]
  },
  {
   "cell_type": "code",
   "execution_count": 55,
   "metadata": {},
   "outputs": [
    {
     "data": {
      "image/png": "[encoded data removed]",
      "text/plain": [
       "<Figure size 432x288 with 1 Axes>"
      ]
     },
     "metadata": {
      "needs_background": "light"
     },
     "output_type": "display_data"
    },
    {
     "name": "stdout",
     "output_type": "stream",
     "text": [
      "b0 = 9.333333333333329\n",
      "b1 = [1.47857143]\n",
      "R^2 = 0.8461437194331265\n",
      "R = 0.9198607065382924\n"
     ]
    },
    {
     "data": {
      "image/png": "[encoded data removed]",
      "text/plain": [
       "<Figure size 432x288 with 1 Axes>"
      ]
     },
     "metadata": {
      "needs_background": "light"
     },
     "output_type": "display_data"
    }
   ],
   "source": [
    "# Part 2 R=0.5\n",
    "\n",
    "x = [10, 10, 20, 20, 30, 30, 40, 40, 50, 50, 60, 60]\n",
    "y = [25,15,23,43,65,70,84,62,66,88,100,92]\n",
    "\n",
    "plt.scatter(x,y,s=50,color='r',marker='o',facecolors='none')\n",
    "plt.title(r'Observations')\n",
    "plt.xlabel(r'Independent Variable: x')\n",
    "plt.ylabel(r'Dependent Variable: ')\n",
    "plt.grid()\n",
    "plt.show()\n",
    "\n",
    "X = np.array(x).reshape(-1,1)\n",
    "Y = np.array(y)\n",
    "model = LinearRegression()\n",
    "model.fit(X,Y)\n",
    "b0 = model.intercept_\n",
    "b1 = model.coef_\n",
    "\n",
    "print(f'b0 = {b0}')\n",
    "print(f'b1 = {b1}')\n",
    "\n",
    "ym = b0+b1*x\n",
    "R2 = model.score(X,Y)\n",
    "R = np.sqrt(R2)\n",
    "\n",
    "print(f'R^2 = {R2}')\n",
    "print(f'R = {R}')\n",
    "\n",
    "plt.scatter(x,Y,s=50,color='r',marker='o',facecolors='none'), plt.plot(X,ym)\n",
    "plt.title(r'Line of Simple Linear Regression, R=0.5')\n",
    "plt.xlabel(r'x')\n",
    "plt.ylabel(r'y')\n",
    "plt.grid()\n",
    "plt.show()"
   ]
  },
  {
   "cell_type": "code",
   "execution_count": 57,
   "metadata": {},
   "outputs": [
    {
     "data": {
      "image/png": "[encoded data removed]",
      "text/plain": [
       "<Figure size 432x288 with 1 Axes>"
      ]
     },
     "metadata": {
      "needs_background": "light"
     },
     "output_type": "display_data"
    },
    {
     "name": "stdout",
     "output_type": "stream",
     "text": [
      "b0 = 14.0\n",
      "b1 = [-2.]\n",
      "R^2 = 1.0\n",
      "R = 1.0\n"
     ]
    },
    {
     "data": {
      "image/png": "[encoded data removed]",
      "text/plain": [
       "<Figure size 432x288 with 1 Axes>"
      ]
     },
     "metadata": {
      "needs_background": "light"
     },
     "output_type": "display_data"
    }
   ],
   "source": [
    "# Part 3 R=-1\n",
    "\n",
    "x = [1,1,2,2,3,3,4,4,5,5,6,6]\n",
    "y = [12,12,10,10,8,8,6,6,4,4,2,2]\n",
    "\n",
    "plt.scatter(x,y,s=50,color='r',marker='o',facecolors='none')\n",
    "plt.title(r'Observations')\n",
    "plt.xlabel(r'Independent Variable: x')\n",
    "plt.ylabel(r'Dependent Variable: ')\n",
    "plt.grid()\n",
    "plt.show()\n",
    "\n",
    "X = np.array(x).reshape(-1,1)\n",
    "Y = np.array(y)\n",
    "model = LinearRegression()\n",
    "model.fit(X,Y)\n",
    "b0 = model.intercept_\n",
    "b1 = model.coef_\n",
    "\n",
    "print(f'b0 = {b0}')\n",
    "print(f'b1 = {b1}')\n",
    "\n",
    "ym = b0+b1*x\n",
    "R2 = model.score(X,Y)\n",
    "R = np.sqrt(R2)\n",
    "\n",
    "print(f'R^2 = {R2}')\n",
    "print(f'R = {R}')\n",
    "\n",
    "plt.scatter(x,Y,s=50,color='r',marker='o',facecolors='none'), plt.plot(X,ym)\n",
    "plt.title(r'Line of Simple Linear Regression, R=-1')\n",
    "plt.xlabel(r'x')\n",
    "plt.ylabel(r'y')\n",
    "plt.grid()\n",
    "plt.show()"
   ]
  },
  {
   "cell_type": "markdown",
   "metadata": {},
   "source": [
    "# EXTRA REGRESSION ANALYSIS INFORMATION\n",
    "\n",
    "## Multiple Linear Regression With scikit-learn"
   ]
  },
  {
   "cell_type": "code",
   "execution_count": null,
   "metadata": {},
   "outputs": [],
   "source": []
  },
  {
   "cell_type": "code",
   "execution_count": 54,
   "metadata": {},
   "outputs": [],
   "source": [
    "x = [[0, 1], [5, 1], [15, 2], [25, 5], [35, 11], [45, 15], [55, 34], [60, 35]]\n",
    "y = [4, 5, 20, 14, 32, 22, 38, 43]\n",
    "x, y = np.array(x), np.array(y)"
   ]
  },
  {
   "cell_type": "code",
   "execution_count": 55,
   "metadata": {},
   "outputs": [
    {
     "data": {
      "text/plain": [
       "array([[ 0,  1],\n",
       "       [ 5,  1],\n",
       "       [15,  2],\n",
       "       [25,  5],\n",
       "       [35, 11],\n",
       "       [45, 15],\n",
       "       [55, 34],\n",
       "       [60, 35]])"
      ]
     },
     "execution_count": 55,
     "metadata": {},
     "output_type": "execute_result"
    }
   ],
   "source": [
    "x"
   ]
  },
  {
   "cell_type": "code",
   "execution_count": 56,
   "metadata": {},
   "outputs": [
    {
     "data": {
      "text/plain": [
       "array([ 4,  5, 20, 14, 32, 22, 38, 43])"
      ]
     },
     "execution_count": 56,
     "metadata": {},
     "output_type": "execute_result"
    }
   ],
   "source": [
    "y"
   ]
  },
  {
   "cell_type": "code",
   "execution_count": 57,
   "metadata": {},
   "outputs": [],
   "source": [
    "model = LinearRegression().fit(x, y)"
   ]
  },
  {
   "cell_type": "code",
   "execution_count": 58,
   "metadata": {},
   "outputs": [],
   "source": [
    "r_sq = model.score(x, y)"
   ]
  },
  {
   "cell_type": "code",
   "execution_count": 59,
   "metadata": {},
   "outputs": [
    {
     "data": {
      "text/plain": [
       "0.8615939258756776"
      ]
     },
     "execution_count": 59,
     "metadata": {},
     "output_type": "execute_result"
    }
   ],
   "source": [
    "r_sq"
   ]
  },
  {
   "cell_type": "code",
   "execution_count": 60,
   "metadata": {},
   "outputs": [
    {
     "data": {
      "text/plain": [
       "5.52257927519819"
      ]
     },
     "execution_count": 60,
     "metadata": {},
     "output_type": "execute_result"
    }
   ],
   "source": [
    "model.intercept_"
   ]
  },
  {
   "cell_type": "code",
   "execution_count": 61,
   "metadata": {},
   "outputs": [
    {
     "data": {
      "text/plain": [
       "array([0.44706965, 0.25502548])"
      ]
     },
     "execution_count": 61,
     "metadata": {},
     "output_type": "execute_result"
    }
   ],
   "source": [
    "model.coef_"
   ]
  },
  {
   "cell_type": "code",
   "execution_count": 62,
   "metadata": {},
   "outputs": [
    {
     "data": {
      "text/plain": [
       "array([ 5.77760476,  8.012953  , 12.73867497, 17.9744479 , 23.97529728,\n",
       "       29.4660957 , 38.78227633, 41.27265006])"
      ]
     },
     "execution_count": 62,
     "metadata": {},
     "output_type": "execute_result"
    }
   ],
   "source": [
    "y_pred = model.predict(x)\n",
    "y_pred"
   ]
  },
  {
   "cell_type": "code",
   "execution_count": 63,
   "metadata": {},
   "outputs": [
    {
     "data": {
      "text/plain": [
       "array([-1.77760476, -3.012953  ,  7.26132503, -3.9744479 ,  8.02470272,\n",
       "       -7.4660957 , -0.78227633,  1.72734994])"
      ]
     },
     "execution_count": 63,
     "metadata": {},
     "output_type": "execute_result"
    }
   ],
   "source": [
    "y-y_pred"
   ]
  },
  {
   "cell_type": "markdown",
   "metadata": {},
   "source": [
    "## Polynomial Regression With scikit-learn - For Fun\n"
   ]
  },
  {
   "cell_type": "code",
   "execution_count": 64,
   "metadata": {},
   "outputs": [],
   "source": [
    "from sklearn.preprocessing import PolynomialFeatures"
   ]
  },
  {
   "cell_type": "code",
   "execution_count": 65,
   "metadata": {},
   "outputs": [],
   "source": [
    "x = np.array([5, 15, 25, 35, 45, 55]).reshape((-1, 1))\n",
    "y = np.array([15, 11, 2, 8, 25, 32])"
   ]
  },
  {
   "cell_type": "code",
   "execution_count": 66,
   "metadata": {},
   "outputs": [
    {
     "data": {
      "image/png": "[encoded data removed]",
      "text/plain": [
       "<Figure size 432x288 with 1 Axes>"
      ]
     },
     "metadata": {
      "needs_background": "light"
     },
     "output_type": "display_data"
    }
   ],
   "source": [
    "plt.scatter(x,y)\n",
    "plt.grid()"
   ]
  },
  {
   "cell_type": "code",
   "execution_count": 67,
   "metadata": {},
   "outputs": [],
   "source": [
    "transformer = PolynomialFeatures(degree=2, include_bias=False)"
   ]
  },
  {
   "cell_type": "code",
   "execution_count": 68,
   "metadata": {},
   "outputs": [
    {
     "data": {
      "text/plain": [
       "PolynomialFeatures(degree=2, include_bias=False, interaction_only=False,\n",
       "                   order='C')"
      ]
     },
     "execution_count": 68,
     "metadata": {},
     "output_type": "execute_result"
    }
   ],
   "source": [
    "transformer.fit(x)"
   ]
  },
  {
   "cell_type": "code",
   "execution_count": 69,
   "metadata": {},
   "outputs": [],
   "source": [
    "x_ = transformer.transform(x)"
   ]
  },
  {
   "cell_type": "code",
   "execution_count": 70,
   "metadata": {},
   "outputs": [
    {
     "data": {
      "text/plain": [
       "array([[   5.,   25.],\n",
       "       [  15.,  225.],\n",
       "       [  25.,  625.],\n",
       "       [  35., 1225.],\n",
       "       [  45., 2025.],\n",
       "       [  55., 3025.]])"
      ]
     },
     "execution_count": 70,
     "metadata": {},
     "output_type": "execute_result"
    }
   ],
   "source": [
    "x_"
   ]
  },
  {
   "cell_type": "code",
   "execution_count": 71,
   "metadata": {},
   "outputs": [],
   "source": [
    "model = LinearRegression().fit(x_, y)"
   ]
  },
  {
   "cell_type": "code",
   "execution_count": 72,
   "metadata": {},
   "outputs": [],
   "source": [
    "r_sq = model.score(x_, y)"
   ]
  },
  {
   "cell_type": "code",
   "execution_count": 73,
   "metadata": {},
   "outputs": [
    {
     "data": {
      "text/plain": [
       "21.372321428571418"
      ]
     },
     "execution_count": 73,
     "metadata": {},
     "output_type": "execute_result"
    }
   ],
   "source": [
    "model.intercept_"
   ]
  },
  {
   "cell_type": "code",
   "execution_count": 74,
   "metadata": {},
   "outputs": [
    {
     "data": {
      "text/plain": [
       "array([-1.32357143,  0.02839286])"
      ]
     },
     "execution_count": 74,
     "metadata": {},
     "output_type": "execute_result"
    }
   ],
   "source": [
    "model.coef_"
   ]
  },
  {
   "cell_type": "code",
   "execution_count": 75,
   "metadata": {},
   "outputs": [],
   "source": [
    "y_pred = model.predict(x_)"
   ]
  },
  {
   "cell_type": "code",
   "execution_count": 76,
   "metadata": {},
   "outputs": [
    {
     "data": {
      "text/plain": [
       "(<matplotlib.collections.PathCollection at 0x7fb0b8b5ad10>,\n",
       " [<matplotlib.lines.Line2D at 0x7fb0c0111b90>])"
      ]
     },
     "execution_count": 76,
     "metadata": {},
     "output_type": "execute_result"
    },
    {
     "data": {
      "image/png": "[encoded data removed]",
      "text/plain": [
       "<Figure size 432x288 with 1 Axes>"
      ]
     },
     "metadata": {
      "needs_background": "light"
     },
     "output_type": "display_data"
    }
   ],
   "source": [
    "plt.scatter(x,y), plt.plot(x,y_pred,'red')"
   ]
  }
 ],
 "metadata": {
  "kernelspec": {
   "display_name": "Python 3 (ipykernel)",
   "language": "python",
   "name": "python3"
  },
  "language_info": {
   "codemirror_mode": {
    "name": "ipython",
    "version": 3
   },
   "file_extension": ".py",
   "mimetype": "text/x-python",
   "name": "python",
   "nbconvert_exporter": "python",
   "pygments_lexer": "ipython3",
   "version": "3.9.12"
  }
 },
 "nbformat": 4,
 "nbformat_minor": 4
}
